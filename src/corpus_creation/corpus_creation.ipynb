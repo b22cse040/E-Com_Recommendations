{
 "cells": [
  {
   "cell_type": "code",
   "id": "initial_id",
   "metadata": {
    "collapsed": true,
    "ExecuteTime": {
     "end_time": "2025-09-01T10:59:19.976132Z",
     "start_time": "2025-09-01T10:59:19.853415Z"
    }
   },
   "source": [
    "import os\n",
    "import numpy as np\n",
    "import polars as pl\n",
    "\n",
    "train_data = pl.read_csv('../Corpus/filtered_train.csv')\n",
    "test_data = pl.read_csv(\"../Corpus/filtered_test.csv\")\n",
    "test_data.head()"
   ],
   "outputs": [
    {
     "data": {
      "text/plain": [
       "shape: (5, 3)\n",
       "┌─────────────────────────────────┬─────────────────────────────────┬────────────┐\n",
       "│ query                           ┆ product_input                   ┆ esci_label │\n",
       "│ ---                             ┆ ---                             ┆ ---        │\n",
       "│ str                             ┆ str                             ┆ f64        │\n",
       "╞═════════════════════════════════╪═════════════════════════════════╪════════════╡\n",
       "│ 110cfm bathroom exhaust fan wi… ┆ [CLS] product_title : Panasoni… ┆ 1.0        │\n",
       "│ 110cfm bathroom exhaust fan wi… ┆ [CLS] product_title : Panasoni… ┆ 0.0        │\n",
       "│ 110cfm bathroom exhaust fan wi… ┆ [CLS] product_title : Panasoni… ┆ 1.0        │\n",
       "│ dark privacy screen             ┆ [CLS] product_title : Amgo 6' … ┆ 1.0        │\n",
       "│ fence panels                    ┆ [CLS] product_title : Zippity … ┆ 1.0        │\n",
       "└─────────────────────────────────┴─────────────────────────────────┴────────────┘"
      ],
      "text/html": [
       "<div><style>\n",
       ".dataframe > thead > tr,\n",
       ".dataframe > tbody > tr {\n",
       "  text-align: right;\n",
       "  white-space: pre-wrap;\n",
       "}\n",
       "</style>\n",
       "<small>shape: (5, 3)</small><table border=\"1\" class=\"dataframe\"><thead><tr><th>query</th><th>product_input</th><th>esci_label</th></tr><tr><td>str</td><td>str</td><td>f64</td></tr></thead><tbody><tr><td>&quot;110cfm bathroom exhaust fan wi…</td><td>&quot;[CLS] product_title : Panasoni…</td><td>1.0</td></tr><tr><td>&quot;110cfm bathroom exhaust fan wi…</td><td>&quot;[CLS] product_title : Panasoni…</td><td>0.0</td></tr><tr><td>&quot;110cfm bathroom exhaust fan wi…</td><td>&quot;[CLS] product_title : Panasoni…</td><td>1.0</td></tr><tr><td>&quot;dark privacy screen&quot;</td><td>&quot;[CLS] product_title : Amgo 6&#x27; …</td><td>1.0</td></tr><tr><td>&quot;fence panels&quot;</td><td>&quot;[CLS] product_title : Zippity …</td><td>1.0</td></tr></tbody></table></div>"
      ]
     },
     "execution_count": 3,
     "metadata": {},
     "output_type": "execute_result"
    }
   ],
   "execution_count": 3
  },
  {
   "metadata": {
    "ExecuteTime": {
     "end_time": "2025-07-03T06:22:48.701230Z",
     "start_time": "2025-07-03T06:22:48.480408Z"
    }
   },
   "cell_type": "code",
   "outputs": [],
   "execution_count": 10,
   "source": [
    "def create_documents(df: pl.DataFrame, filepath: str, query: bool) -> None:\n",
    "  \"\"\"\n",
    "  Writes the content of DF to a .txt file in a directory.\n",
    "  Each row will be written as a separate line in the text file\n",
    "\n",
    "  Params:\n",
    "    df (pl.DataFrame): DataFrame containing the content of a corpus\n",
    "    filepath (str): Path to the .txt file\n",
    "    query (bool): If True, write the content of query to a .txt file, else product_info to a .txt file\n",
    "\n",
    "  Returns:\n",
    "    None\n",
    "  \"\"\"\n",
    "\n",
    "  col_to_write = \"query_info\" if query else \"prod_info\"\n",
    "\n",
    "  if col_to_write not in df.columns:\n",
    "    raise ValueError(f\"Column {col_to_write} not found in DataFrame\")\n",
    "\n",
    "  with open(filepath, \"w\", encoding=\"utf-8\") as f:\n",
    "    for text in df[col_to_write]:\n",
    "      f.write(text + '\\n\\n')\n",
    "\n",
    "create_documents(test_data, \"../Corpus/prod_corpus.txt\", False)\n",
    "create_documents(train_data, \"../Corpus/query_corpus.txt\", True)"
   ],
   "id": "f0fa1d77887f6eab"
  }
 ],
 "metadata": {
  "kernelspec": {
   "display_name": "Python 3",
   "language": "python",
   "name": "python3"
  },
  "language_info": {
   "codemirror_mode": {
    "name": "ipython",
    "version": 2
   },
   "file_extension": ".py",
   "mimetype": "text/x-python",
   "name": "python",
   "nbconvert_exporter": "python",
   "pygments_lexer": "ipython2",
   "version": "2.7.6"
  }
 },
 "nbformat": 4,
 "nbformat_minor": 5
}
