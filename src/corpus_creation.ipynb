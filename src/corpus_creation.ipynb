{
 "cells": [
  {
   "cell_type": "code",
   "id": "initial_id",
   "metadata": {
    "collapsed": true,
    "ExecuteTime": {
     "end_time": "2025-07-03T06:02:29.317464Z",
     "start_time": "2025-07-03T06:02:29.271293Z"
    }
   },
   "source": [
    "import os\n",
    "import numpy as np\n",
    "import polars as pl\n",
    "\n",
    "product_info = pl.read_csv('../Corpus/product.csv', separator='\\t')\n",
    "queries = pl.read_csv(\"../Corpus/query.csv\", separator='\\t')\n",
    "\n",
    "queries.head()"
   ],
   "outputs": [
    {
     "data": {
      "text/plain": [
       "shape: (5, 3)\n",
       "┌──────────┬───────────────────────────┬──────────────────────────┐\n",
       "│ query_id ┆ query                     ┆ query_class              │\n",
       "│ ---      ┆ ---                       ┆ ---                      │\n",
       "│ i64      ┆ str                       ┆ str                      │\n",
       "╞══════════╪═══════════════════════════╪══════════════════════════╡\n",
       "│ 0        ┆ salon chair               ┆ Massage Chairs           │\n",
       "│ 1        ┆ smart coffee table        ┆ Coffee & Cocktail Tables │\n",
       "│ 2        ┆ dinosaur                  ┆ Kids Wall Décor          │\n",
       "│ 3        ┆ turquoise pillows         ┆ Accent Pillows           │\n",
       "│ 4        ┆ chair and a half recliner ┆ Recliners                │\n",
       "└──────────┴───────────────────────────┴──────────────────────────┘"
      ],
      "text/html": [
       "<div><style>\n",
       ".dataframe > thead > tr,\n",
       ".dataframe > tbody > tr {\n",
       "  text-align: right;\n",
       "  white-space: pre-wrap;\n",
       "}\n",
       "</style>\n",
       "<small>shape: (5, 3)</small><table border=\"1\" class=\"dataframe\"><thead><tr><th>query_id</th><th>query</th><th>query_class</th></tr><tr><td>i64</td><td>str</td><td>str</td></tr></thead><tbody><tr><td>0</td><td>&quot;salon chair&quot;</td><td>&quot;Massage Chairs&quot;</td></tr><tr><td>1</td><td>&quot;smart coffee table&quot;</td><td>&quot;Coffee &amp; Cocktail Tables&quot;</td></tr><tr><td>2</td><td>&quot;dinosaur&quot;</td><td>&quot;Kids Wall Décor&quot;</td></tr><tr><td>3</td><td>&quot;turquoise pillows&quot;</td><td>&quot;Accent Pillows&quot;</td></tr><tr><td>4</td><td>&quot;chair and a half recliner&quot;</td><td>&quot;Recliners&quot;</td></tr></tbody></table></div>"
      ]
     },
     "execution_count": 4,
     "metadata": {},
     "output_type": "execute_result"
    }
   ],
   "execution_count": 4
  },
  {
   "metadata": {
    "ExecuteTime": {
     "end_time": "2025-07-03T06:03:01.461070Z",
     "start_time": "2025-07-03T06:03:01.453579Z"
    }
   },
   "cell_type": "code",
   "source": "product_info.head()",
   "id": "c75b84ccaa0dbaad",
   "outputs": [
    {
     "data": {
      "text/plain": [
       "shape: (5, 9)\n",
       "┌───────────┬───────────┬───────────┬───────────┬───┬───────────┬───────────┬───────────┬──────────┐\n",
       "│ product_i ┆ product_n ┆ product_c ┆ category  ┆ … ┆ product_f ┆ rating_co ┆ average_r ┆ review_c │\n",
       "│ d         ┆ ame       ┆ lass      ┆ hierarchy ┆   ┆ eatures   ┆ unt       ┆ ating     ┆ ount     │\n",
       "│ ---       ┆ ---       ┆ ---       ┆ ---       ┆   ┆ ---       ┆ ---       ┆ ---       ┆ ---      │\n",
       "│ i64       ┆ str       ┆ str       ┆ str       ┆   ┆ str       ┆ f64       ┆ f64       ┆ f64      │\n",
       "╞═══════════╪═══════════╪═══════════╪═══════════╪═══╪═══════════╪═══════════╪═══════════╪══════════╡\n",
       "│ 0         ┆ solid     ┆ Beds      ┆ Furniture ┆ … ┆ overallwi ┆ 15.0      ┆ 4.5       ┆ 15.0     │\n",
       "│           ┆ wood      ┆           ┆ / Bedroom ┆   ┆ dth-sidet ┆           ┆           ┆          │\n",
       "│           ┆ platform  ┆           ┆ Furniture ┆   ┆ oside:64. ┆           ┆           ┆          │\n",
       "│           ┆ bed       ┆           ┆ …         ┆   ┆ 7|d…      ┆           ┆           ┆          │\n",
       "│ 1         ┆ all-clad  ┆ Slow      ┆ Kitchen & ┆ … ┆ capacityq ┆ 100.0     ┆ 2.0       ┆ 98.0     │\n",
       "│           ┆ 7 qt .    ┆ Cookers   ┆ Tabletop  ┆   ┆ uarts:7|p ┆           ┆           ┆          │\n",
       "│           ┆ slow      ┆           ┆ / Small   ┆   ┆ roducttyp ┆           ┆           ┆          │\n",
       "│           ┆ cooker    ┆           ┆ Kit…      ┆   ┆ e :…      ┆           ┆           ┆          │\n",
       "│ 2         ┆ all-clad  ┆ Slow      ┆ Kitchen & ┆ … ┆ features  ┆ 208.0     ┆ 3.0       ┆ 181.0    │\n",
       "│           ┆ electrics ┆ Cookers   ┆ Tabletop  ┆   ┆ : keep    ┆           ┆           ┆          │\n",
       "│           ┆ 6.5 qt .  ┆           ┆ / Small   ┆   ┆ warm sett ┆           ┆           ┆          │\n",
       "│           ┆ sl…       ┆           ┆ Kit…      ┆   ┆ ing|c…    ┆           ┆           ┆          │\n",
       "│ 3         ┆ all-clad  ┆ Slicers,  ┆ Browse By ┆ … ┆ overallwi ┆ 69.0      ┆ 4.5       ┆ 42.0     │\n",
       "│           ┆ all profe ┆ Peelers   ┆ Brand /   ┆   ┆ dth-sidet ┆           ┆           ┆          │\n",
       "│           ┆ ssional   ┆ And       ┆ All-Clad  ┆   ┆ oside:3.5 ┆           ┆           ┆          │\n",
       "│           ┆ tool…     ┆ Graters   ┆           ┆   ┆ |wa…      ┆           ┆           ┆          │\n",
       "│ 4         ┆ baldwin   ┆ Door      ┆ Home Impr ┆ … ┆ compatibl ┆ 70.0      ┆ 5.0       ┆ 42.0     │\n",
       "│           ┆ prestige  ┆ Knobs     ┆ ovement / ┆   ┆ edoorthic ┆           ┆           ┆          │\n",
       "│           ┆ alcott    ┆           ┆ Doors &   ┆   ┆ kness:1.3 ┆           ┆           ┆          │\n",
       "│           ┆ passag…   ┆           ┆ Doo…      ┆   ┆ 75 …      ┆           ┆           ┆          │\n",
       "└───────────┴───────────┴───────────┴───────────┴───┴───────────┴───────────┴───────────┴──────────┘"
      ],
      "text/html": [
       "<div><style>\n",
       ".dataframe > thead > tr,\n",
       ".dataframe > tbody > tr {\n",
       "  text-align: right;\n",
       "  white-space: pre-wrap;\n",
       "}\n",
       "</style>\n",
       "<small>shape: (5, 9)</small><table border=\"1\" class=\"dataframe\"><thead><tr><th>product_id</th><th>product_name</th><th>product_class</th><th>category hierarchy</th><th>product_description</th><th>product_features</th><th>rating_count</th><th>average_rating</th><th>review_count</th></tr><tr><td>i64</td><td>str</td><td>str</td><td>str</td><td>str</td><td>str</td><td>f64</td><td>f64</td><td>f64</td></tr></thead><tbody><tr><td>0</td><td>&quot;solid wood platform bed&quot;</td><td>&quot;Beds&quot;</td><td>&quot;Furniture / Bedroom Furniture …</td><td>&quot;good , deep sleep can be quite…</td><td>&quot;overallwidth-sidetoside:64.7|d…</td><td>15.0</td><td>4.5</td><td>15.0</td></tr><tr><td>1</td><td>&quot;all-clad 7 qt . slow cooker&quot;</td><td>&quot;Slow Cookers&quot;</td><td>&quot;Kitchen &amp; Tabletop / Small Kit…</td><td>&quot;create delicious slow-cooked m…</td><td>&quot;capacityquarts:7|producttype :…</td><td>100.0</td><td>2.0</td><td>98.0</td></tr><tr><td>2</td><td>&quot;all-clad electrics 6.5 qt . sl…</td><td>&quot;Slow Cookers&quot;</td><td>&quot;Kitchen &amp; Tabletop / Small Kit…</td><td>&quot;prepare home-cooked meals on a…</td><td>&quot;features : keep warm setting|c…</td><td>208.0</td><td>3.0</td><td>181.0</td></tr><tr><td>3</td><td>&quot;all-clad all professional tool…</td><td>&quot;Slicers, Peelers And Graters&quot;</td><td>&quot;Browse By Brand / All-Clad&quot;</td><td>&quot;this original stainless tool w…</td><td>&quot;overallwidth-sidetoside:3.5|wa…</td><td>69.0</td><td>4.5</td><td>42.0</td></tr><tr><td>4</td><td>&quot;baldwin prestige alcott passag…</td><td>&quot;Door Knobs&quot;</td><td>&quot;Home Improvement / Doors &amp; Doo…</td><td>&quot;the hardware has a rich herita…</td><td>&quot;compatibledoorthickness:1.375 …</td><td>70.0</td><td>5.0</td><td>42.0</td></tr></tbody></table></div>"
      ]
     },
     "execution_count": 5,
     "metadata": {},
     "output_type": "execute_result"
    }
   ],
   "execution_count": 5
  },
  {
   "metadata": {
    "ExecuteTime": {
     "end_time": "2025-07-03T06:15:19.423217Z",
     "start_time": "2025-07-03T06:15:19.355168Z"
    }
   },
   "cell_type": "code",
   "source": [
    "def concatenate_info(df: pl.DataFrame, query: bool) -> pl.DataFrame:\n",
    "  # Create one expression to concatenate columns row-wise\n",
    "  if not query:\n",
    "    prod_expr = pl.concat_str([\n",
    "      pl.lit(\"[CLS] \"),\n",
    "      pl.col(\"product_name\").alias(\"name\").cast(pl.Utf8).fill_null(\"\"),\n",
    "      pl.lit(\" | \"),\n",
    "      pl.col(\"product_class\").alias(\"class\").cast(pl.Utf8).fill_null(\"\"),\n",
    "      pl.lit(\" | \"),\n",
    "      pl.col(\"product_description\").alias(\"description\").cast(pl.Utf8).fill_null(\"\"),\n",
    "      pl.lit(\" | \"),\n",
    "      pl.col(\"product_features\").alias(\"features\").cast(pl.Utf8).fill_null(\"\"),\n",
    "      pl.lit(\" [SEP]\"),\n",
    "    ])\n",
    "\n",
    "    return df.with_columns(prod_info=prod_expr)\n",
    "\n",
    "  query_expr = pl.concat_str([\n",
    "    pl.lit(\"[CLS] \"),\n",
    "    pl.col(\"query\").alias(\"query\").cast(pl.Utf8).fill_null(\"\"),\n",
    "    pl.lit(\" | \"),\n",
    "    pl.col(\"query_class\").alias(\"class\").cast(pl.Utf8).fill_null(\"\"),\n",
    "    pl.lit(\" [SEP]\")\n",
    "  ])\n",
    "\n",
    "  return df.with_columns(query_info=query_expr)\n",
    "\n",
    "product_info = concatenate_info(product_info, False)\n",
    "queries = concatenate_info(queries, True)"
   ],
   "id": "231a4a675f904da1",
   "outputs": [],
   "execution_count": 7
  },
  {
   "metadata": {
    "ExecuteTime": {
     "end_time": "2025-07-03T06:15:55.034761Z",
     "start_time": "2025-07-03T06:15:55.030294Z"
    }
   },
   "cell_type": "code",
   "source": "queries.head()",
   "id": "3d62ada984aa85df",
   "outputs": [
    {
     "data": {
      "text/plain": [
       "shape: (5, 4)\n",
       "┌──────────┬───────────────────────────┬──────────────────────────┬─────────────────────────────┐\n",
       "│ query_id ┆ query                     ┆ query_class              ┆ query_info                  │\n",
       "│ ---      ┆ ---                       ┆ ---                      ┆ ---                         │\n",
       "│ i64      ┆ str                       ┆ str                      ┆ str                         │\n",
       "╞══════════╪═══════════════════════════╪══════════════════════════╪═════════════════════════════╡\n",
       "│ 0        ┆ salon chair               ┆ Massage Chairs           ┆ [CLS] salon chair | Massage │\n",
       "│          ┆                           ┆                          ┆ Ch…                         │\n",
       "│ 1        ┆ smart coffee table        ┆ Coffee & Cocktail Tables ┆ [CLS] smart coffee table |  │\n",
       "│          ┆                           ┆                          ┆ Cof…                        │\n",
       "│ 2        ┆ dinosaur                  ┆ Kids Wall Décor          ┆ [CLS] dinosaur | Kids Wall  │\n",
       "│          ┆                           ┆                          ┆ Déc…                        │\n",
       "│ 3        ┆ turquoise pillows         ┆ Accent Pillows           ┆ [CLS] turquoise pillows |   │\n",
       "│          ┆                           ┆                          ┆ Acce…                       │\n",
       "│ 4        ┆ chair and a half recliner ┆ Recliners                ┆ [CLS] chair and a half      │\n",
       "│          ┆                           ┆                          ┆ recline…                    │\n",
       "└──────────┴───────────────────────────┴──────────────────────────┴─────────────────────────────┘"
      ],
      "text/html": [
       "<div><style>\n",
       ".dataframe > thead > tr,\n",
       ".dataframe > tbody > tr {\n",
       "  text-align: right;\n",
       "  white-space: pre-wrap;\n",
       "}\n",
       "</style>\n",
       "<small>shape: (5, 4)</small><table border=\"1\" class=\"dataframe\"><thead><tr><th>query_id</th><th>query</th><th>query_class</th><th>query_info</th></tr><tr><td>i64</td><td>str</td><td>str</td><td>str</td></tr></thead><tbody><tr><td>0</td><td>&quot;salon chair&quot;</td><td>&quot;Massage Chairs&quot;</td><td>&quot;[CLS] salon chair | Massage Ch…</td></tr><tr><td>1</td><td>&quot;smart coffee table&quot;</td><td>&quot;Coffee &amp; Cocktail Tables&quot;</td><td>&quot;[CLS] smart coffee table | Cof…</td></tr><tr><td>2</td><td>&quot;dinosaur&quot;</td><td>&quot;Kids Wall Décor&quot;</td><td>&quot;[CLS] dinosaur | Kids Wall Déc…</td></tr><tr><td>3</td><td>&quot;turquoise pillows&quot;</td><td>&quot;Accent Pillows&quot;</td><td>&quot;[CLS] turquoise pillows | Acce…</td></tr><tr><td>4</td><td>&quot;chair and a half recliner&quot;</td><td>&quot;Recliners&quot;</td><td>&quot;[CLS] chair and a half recline…</td></tr></tbody></table></div>"
      ]
     },
     "execution_count": 9,
     "metadata": {},
     "output_type": "execute_result"
    }
   ],
   "execution_count": 9
  },
  {
   "metadata": {
    "ExecuteTime": {
     "end_time": "2025-07-03T06:22:48.701230Z",
     "start_time": "2025-07-03T06:22:48.480408Z"
    }
   },
   "cell_type": "code",
   "source": [
    "def create_documents(df: pl.DataFrame, filepath: str, query: bool) -> None:\n",
    "  \"\"\"\n",
    "  Writes the content of DF to a .txt file in a directory.\n",
    "  Each row will be written as a separate line in the text file\n",
    "\n",
    "  Params:\n",
    "    df (pl.DataFrame): DataFrame containing the content of a corpus\n",
    "    filepath (str): Path to the .txt file\n",
    "    query (bool): If True, write the content of query to a .txt file, else product_info to a .txt file\n",
    "\n",
    "  Returns:\n",
    "    None\n",
    "  \"\"\"\n",
    "\n",
    "  col_to_write = \"query_info\" if query else \"prod_info\"\n",
    "\n",
    "  if col_to_write not in df.columns:\n",
    "    raise ValueError(f\"Column {col_to_write} not found in DataFrame\")\n",
    "\n",
    "  with open(filepath, \"w\", encoding=\"utf-8\") as f:\n",
    "    for text in df[col_to_write]:\n",
    "      f.write(text + '\\n\\n')\n",
    "\n",
    "create_documents(product_info, \"../Corpus/prod_corpus.txt\", False)\n",
    "create_documents(queries, \"../Corpus/query_corpus.txt\", True)"
   ],
   "id": "f0fa1d77887f6eab",
   "outputs": [],
   "execution_count": 10
  }
 ],
 "metadata": {
  "kernelspec": {
   "display_name": "Python 3",
   "language": "python",
   "name": "python3"
  },
  "language_info": {
   "codemirror_mode": {
    "name": "ipython",
    "version": 2
   },
   "file_extension": ".py",
   "mimetype": "text/x-python",
   "name": "python",
   "nbconvert_exporter": "python",
   "pygments_lexer": "ipython2",
   "version": "2.7.6"
  }
 },
 "nbformat": 4,
 "nbformat_minor": 5
}
