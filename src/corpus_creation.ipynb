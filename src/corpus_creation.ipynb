{
 "cells": [
  {
   "cell_type": "code",
   "id": "initial_id",
   "metadata": {
    "collapsed": true,
    "ExecuteTime": {
     "end_time": "2025-06-26T07:09:17.210830Z",
     "start_time": "2025-06-26T07:09:16.895286Z"
    }
   },
   "source": [
    "import os\n",
    "import numpy as np\n",
    "import polars as pl\n",
    "\n",
    "df = pl.read_csv('../Corpus/prod_dataset.csv')\n",
    "df.head()"
   ],
   "outputs": [
    {
     "data": {
      "text/plain": [
       "shape: (5, 4)\n",
       "┌─────┬─────────────┬─────────────────────────────────┬───────┐\n",
       "│     ┆ query       ┆ prod_info                       ┆ label │\n",
       "│ --- ┆ ---         ┆ ---                             ┆ ---   │\n",
       "│ i64 ┆ str         ┆ str                             ┆ f64   │\n",
       "╞═════╪═════════════╪═════════════════════════════════╪═══════╡\n",
       "│ 0   ┆ salon chair ┆ [CLS] product_name: 21.7 '' w … ┆ 1.0   │\n",
       "│ 1   ┆ salon chair ┆ [CLS] product_name: 22.5 '' wi… ┆ 0.0   │\n",
       "│ 2   ┆ salon chair ┆ [CLS] product_name: 24.4 '' w … ┆ 1.0   │\n",
       "│ 3   ┆ salon chair ┆ [CLS] product_name: 25 '' wide… ┆ 1.0   │\n",
       "│ 4   ┆ salon chair ┆ [CLS] product_name: 27.6 '' w … ┆ 1.0   │\n",
       "└─────┴─────────────┴─────────────────────────────────┴───────┘"
      ],
      "text/html": [
       "<div><style>\n",
       ".dataframe > thead > tr,\n",
       ".dataframe > tbody > tr {\n",
       "  text-align: right;\n",
       "  white-space: pre-wrap;\n",
       "}\n",
       "</style>\n",
       "<small>shape: (5, 4)</small><table border=\"1\" class=\"dataframe\"><thead><tr><th></th><th>query</th><th>prod_info</th><th>label</th></tr><tr><td>i64</td><td>str</td><td>str</td><td>f64</td></tr></thead><tbody><tr><td>0</td><td>&quot;salon chair&quot;</td><td>&quot;[CLS] product_name: 21.7 &#x27;&#x27; w …</td><td>1.0</td></tr><tr><td>1</td><td>&quot;salon chair&quot;</td><td>&quot;[CLS] product_name: 22.5 &#x27;&#x27; wi…</td><td>0.0</td></tr><tr><td>2</td><td>&quot;salon chair&quot;</td><td>&quot;[CLS] product_name: 24.4 &#x27;&#x27; w …</td><td>1.0</td></tr><tr><td>3</td><td>&quot;salon chair&quot;</td><td>&quot;[CLS] product_name: 25 &#x27;&#x27; wide…</td><td>1.0</td></tr><tr><td>4</td><td>&quot;salon chair&quot;</td><td>&quot;[CLS] product_name: 27.6 &#x27;&#x27; w …</td><td>1.0</td></tr></tbody></table></div>"
      ]
     },
     "execution_count": 2,
     "metadata": {},
     "output_type": "execute_result"
    }
   ],
   "execution_count": 2
  },
  {
   "metadata": {
    "ExecuteTime": {
     "end_time": "2025-06-26T07:11:49.253850Z",
     "start_time": "2025-06-26T07:11:49.250956Z"
    }
   },
   "cell_type": "code",
   "source": [
    "mapping = {\n",
    "  1.0 : \"Exact\",\n",
    "  0.1 : \"Substitute\",\n",
    "  0.0 : \"Irrelevant\"\n",
    "}"
   ],
   "id": "c75b84ccaa0dbaad",
   "outputs": [],
   "execution_count": 4
  },
  {
   "metadata": {
    "ExecuteTime": {
     "end_time": "2025-06-26T07:14:26.174847Z",
     "start_time": "2025-06-26T07:14:24.810804Z"
    }
   },
   "cell_type": "code",
   "source": [
    "def create_documents(df: pl.DataFrame, mapping: dict[int, str], filepath: str = \"../Corpus/corpus.txt\") -> None:\n",
    "  \"\"\"\n",
    "  Writes the content of dataframe to a .txt file in a directory\n",
    "  Each row will be written as a separate line in the text file\n",
    "\n",
    "  Params:\n",
    "    df (pl.DataFrame): dataframe containing the content of a corpus\n",
    "    dir (str): directory to write the text file\n",
    "    filename (str): filename to write the text file\n",
    "\n",
    "  Returns:\n",
    "    None\n",
    "  \"\"\"\n",
    "  with open(filepath, \"w\", encoding=\"utf-8\") as file:\n",
    "    for row in df.iter_rows(named=True):\n",
    "      row = dict(row)\n",
    "      if \"label\" in row and row[\"label\"] in mapping:\n",
    "        row[\"label\"] = mapping[row[\"label\"]]\n",
    "\n",
    "      line = \" | \".join(f\"{col}: {val}\" for col, val in row.items())\n",
    "      file.write(line + \"\\n\\n\")\n",
    "\n",
    "create_documents(df, mapping)"
   ],
   "id": "d9a00e87518a259b",
   "outputs": [],
   "execution_count": 6
  },
  {
   "metadata": {
    "ExecuteTime": {
     "end_time": "2025-06-26T08:21:04.650161Z",
     "start_time": "2025-06-26T08:21:04.646442Z"
    }
   },
   "cell_type": "code",
   "source": [
    "import logging\n",
    "\n",
    "logging.info(\"Formed txt file from csv file\")"
   ],
   "id": "c4e348679c6049b",
   "outputs": [],
   "execution_count": 7
  }
 ],
 "metadata": {
  "kernelspec": {
   "display_name": "Python 3",
   "language": "python",
   "name": "python3"
  },
  "language_info": {
   "codemirror_mode": {
    "name": "ipython",
    "version": 2
   },
   "file_extension": ".py",
   "mimetype": "text/x-python",
   "name": "python",
   "nbconvert_exporter": "python",
   "pygments_lexer": "ipython2",
   "version": "2.7.6"
  }
 },
 "nbformat": 4,
 "nbformat_minor": 5
}
